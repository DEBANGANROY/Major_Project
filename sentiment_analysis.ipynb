{
  "nbformat": 4,
  "nbformat_minor": 0,
  "metadata": {
    "colab": {
      "name": "sentiment analysis.ipynb",
      "provenance": [],
      "mount_file_id": "1qNB1b07H0Dcmyngg4CSJGqnrzKMqmvZ5",
      "authorship_tag": "ABX9TyN+p4CdgxLYaJ72+LWP1f2W",
      "include_colab_link": true
    },
    "kernelspec": {
      "name": "python3",
      "display_name": "Python 3"
    },
    "language_info": {
      "name": "python"
    }
  },
  "cells": [
    {
      "cell_type": "markdown",
      "metadata": {
        "id": "view-in-github",
        "colab_type": "text"
      },
      "source": [
        "<a href=\"https://colab.research.google.com/github/DEBANGANROY/Major_Project/blob/main/sentiment_analysis.ipynb\" target=\"_parent\"><img src=\"https://colab.research.google.com/assets/colab-badge.svg\" alt=\"Open In Colab\"/></a>"
      ]
    },
    {
      "cell_type": "markdown",
      "metadata": {
        "id": "rtOzs3MajKbE"
      },
      "source": [
        "###***DATASET INFORMATION***\n",
        "\n",
        "LINK FOR DATA SET:\n",
        "\n",
        "https://www.kaggle.com/debanganroy/amazon-review-dataset?select=amazondata.csv\n"
      ]
    },
    {
      "cell_type": "markdown",
      "metadata": {
        "id": "UcUEuDj7mE8b"
      },
      "source": [
        "###***STEP 1:***\n",
        "*Collection of data*"
      ]
    },
    {
      "cell_type": "code",
      "metadata": {
        "colab": {
          "base_uri": "https://localhost:8080/",
          "height": 354
        },
        "id": "r3Z_gd4xYip0",
        "outputId": "60191538-ac72-4600-d507-d0109b9aeb93"
      },
      "source": [
        "import pandas as pd\n",
        "\n",
        "df = pd.read_csv('/content/drive/MyDrive/ml samrtknower/major project/amazondata.csv')\n",
        "print(df.shape)\n",
        "df.head()"
      ],
      "execution_count": null,
      "outputs": [
        {
          "output_type": "stream",
          "text": [
            "(128845, 11)\n"
          ],
          "name": "stdout"
        },
        {
          "output_type": "stream",
          "text": [
            "/usr/local/lib/python3.7/dist-packages/IPython/core/interactiveshell.py:2718: DtypeWarning: Columns (1,2) have mixed types.Specify dtype option on import or set low_memory=False.\n",
            "  interactivity=interactivity, compiler=compiler, result=result)\n"
          ],
          "name": "stderr"
        },
        {
          "output_type": "execute_result",
          "data": {
            "text/html": [
              "<div>\n",
              "<style scoped>\n",
              "    .dataframe tbody tr th:only-of-type {\n",
              "        vertical-align: middle;\n",
              "    }\n",
              "\n",
              "    .dataframe tbody tr th {\n",
              "        vertical-align: top;\n",
              "    }\n",
              "\n",
              "    .dataframe thead th {\n",
              "        text-align: right;\n",
              "    }\n",
              "</style>\n",
              "<table border=\"1\" class=\"dataframe\">\n",
              "  <thead>\n",
              "    <tr style=\"text-align: right;\">\n",
              "      <th></th>\n",
              "      <th>Helpful Votes (bin)</th>\n",
              "      <th>Number of Records</th>\n",
              "      <th>Star Rating (bin)</th>\n",
              "      <th>Customer Id</th>\n",
              "      <th>Helpful Votes</th>\n",
              "      <th>Overall Votes</th>\n",
              "      <th>Product Id</th>\n",
              "      <th>Review Body</th>\n",
              "      <th>Review Year</th>\n",
              "      <th>Review Headline</th>\n",
              "      <th>Star Rating</th>\n",
              "    </tr>\n",
              "  </thead>\n",
              "  <tbody>\n",
              "    <tr>\n",
              "      <th>0</th>\n",
              "      <td>0</td>\n",
              "      <td>1</td>\n",
              "      <td>0</td>\n",
              "      <td>NaN</td>\n",
              "      <td>4.0</td>\n",
              "      <td>14.0</td>\n",
              "      <td>26009102</td>\n",
              "      <td>You will love this book.  It is a hard long re...</td>\n",
              "      <td>03/17/2005 0:00</td>\n",
              "      <td>Best Book Ever</td>\n",
              "      <td>5.0</td>\n",
              "    </tr>\n",
              "    <tr>\n",
              "      <th>1</th>\n",
              "      <td>NaN</td>\n",
              "      <td>1</td>\n",
              "      <td>NaN</td>\n",
              "      <td>NaN</td>\n",
              "      <td>NaN</td>\n",
              "      <td>NaN</td>\n",
              "      <td>7491727</td>\n",
              "      <td>This is the UK edition of Dr. Omit's book. Dr....</td>\n",
              "      <td>NaN</td>\n",
              "      <td>researchers from John Hopkins School of Medici...</td>\n",
              "      <td>NaN</td>\n",
              "    </tr>\n",
              "    <tr>\n",
              "      <th>2</th>\n",
              "      <td>0</td>\n",
              "      <td>1</td>\n",
              "      <td>0</td>\n",
              "      <td>NaN</td>\n",
              "      <td>2.0</td>\n",
              "      <td>2.0</td>\n",
              "      <td>002782683X</td>\n",
              "      <td>This is a fun and entertaining book about lear...</td>\n",
              "      <td>06/25/2012 0:00</td>\n",
              "      <td>Michelle</td>\n",
              "      <td>5.0</td>\n",
              "    </tr>\n",
              "    <tr>\n",
              "      <th>3</th>\n",
              "      <td>0</td>\n",
              "      <td>1</td>\n",
              "      <td>0</td>\n",
              "      <td>NaN</td>\n",
              "      <td>0.0</td>\n",
              "      <td>0.0</td>\n",
              "      <td>60187271</td>\n",
              "      <td>Started a big slow, but once into it the autho...</td>\n",
              "      <td>06/09/2013 0:00</td>\n",
              "      <td>Loved the book</td>\n",
              "      <td>5.0</td>\n",
              "    </tr>\n",
              "    <tr>\n",
              "      <th>4</th>\n",
              "      <td>0</td>\n",
              "      <td>1</td>\n",
              "      <td>0</td>\n",
              "      <td>NaN</td>\n",
              "      <td>14.0</td>\n",
              "      <td>20.0</td>\n",
              "      <td>60392452</td>\n",
              "      <td>Received this book as a Christmas present. I h...</td>\n",
              "      <td>08/05/2003 0:00</td>\n",
              "      <td>Challenges your assumptions</td>\n",
              "      <td>4.0</td>\n",
              "    </tr>\n",
              "  </tbody>\n",
              "</table>\n",
              "</div>"
            ],
            "text/plain": [
              "  Helpful Votes (bin)  ... Star Rating\n",
              "0                   0  ...         5.0\n",
              "1                 NaN  ...         NaN\n",
              "2                   0  ...         5.0\n",
              "3                   0  ...         5.0\n",
              "4                   0  ...         4.0\n",
              "\n",
              "[5 rows x 11 columns]"
            ]
          },
          "metadata": {
            "tags": []
          },
          "execution_count": 1
        }
      ]
    },
    {
      "cell_type": "code",
      "metadata": {
        "colab": {
          "base_uri": "https://localhost:8080/",
          "height": 417
        },
        "id": "sn3Ow6XLZTla",
        "outputId": "1019790e-9468-462b-a75e-a26f9d5fdd8d"
      },
      "source": [
        "df_need = df.drop(columns=['Helpful Votes (bin)','Number of Records',\t'Star Rating (bin)', 'Customer Id',\t'Helpful Votes',\t'Overall Votes','Review Year', 'Review Headline', 'Star Rating']).dropna()\n",
        "df_need"
      ],
      "execution_count": null,
      "outputs": [
        {
          "output_type": "execute_result",
          "data": {
            "text/html": [
              "<div>\n",
              "<style scoped>\n",
              "    .dataframe tbody tr th:only-of-type {\n",
              "        vertical-align: middle;\n",
              "    }\n",
              "\n",
              "    .dataframe tbody tr th {\n",
              "        vertical-align: top;\n",
              "    }\n",
              "\n",
              "    .dataframe thead th {\n",
              "        text-align: right;\n",
              "    }\n",
              "</style>\n",
              "<table border=\"1\" class=\"dataframe\">\n",
              "  <thead>\n",
              "    <tr style=\"text-align: right;\">\n",
              "      <th></th>\n",
              "      <th>Product Id</th>\n",
              "      <th>Review Body</th>\n",
              "    </tr>\n",
              "  </thead>\n",
              "  <tbody>\n",
              "    <tr>\n",
              "      <th>0</th>\n",
              "      <td>26009102</td>\n",
              "      <td>You will love this book.  It is a hard long re...</td>\n",
              "    </tr>\n",
              "    <tr>\n",
              "      <th>1</th>\n",
              "      <td>7491727</td>\n",
              "      <td>This is the UK edition of Dr. Omit's book. Dr....</td>\n",
              "    </tr>\n",
              "    <tr>\n",
              "      <th>2</th>\n",
              "      <td>002782683X</td>\n",
              "      <td>This is a fun and entertaining book about lear...</td>\n",
              "    </tr>\n",
              "    <tr>\n",
              "      <th>3</th>\n",
              "      <td>60187271</td>\n",
              "      <td>Started a big slow, but once into it the autho...</td>\n",
              "    </tr>\n",
              "    <tr>\n",
              "      <th>4</th>\n",
              "      <td>60392452</td>\n",
              "      <td>Received this book as a Christmas present. I h...</td>\n",
              "    </tr>\n",
              "    <tr>\n",
              "      <th>...</th>\n",
              "      <td>...</td>\n",
              "      <td>...</td>\n",
              "    </tr>\n",
              "    <tr>\n",
              "      <th>128840</th>\n",
              "      <td>60529148</td>\n",
              "      <td>John Stossel explains within these pages how h...</td>\n",
              "    </tr>\n",
              "    <tr>\n",
              "      <th>128841</th>\n",
              "      <td>60579412</td>\n",
              "      <td>When Bill Clinton said that we were all cold w...</td>\n",
              "    </tr>\n",
              "    <tr>\n",
              "      <th>128842</th>\n",
              "      <td>60184973</td>\n",
              "      <td>During her reign, Queen Mary foiled several pl...</td>\n",
              "    </tr>\n",
              "    <tr>\n",
              "      <th>128843</th>\n",
              "      <td>7444117</td>\n",
              "      <td>I just don't understand how this was supposed ...</td>\n",
              "    </tr>\n",
              "    <tr>\n",
              "      <th>128844</th>\n",
              "      <td>7337701</td>\n",
              "      <td>No one can explain what seems to be the serend...</td>\n",
              "    </tr>\n",
              "  </tbody>\n",
              "</table>\n",
              "<p>128834 rows × 2 columns</p>\n",
              "</div>"
            ],
            "text/plain": [
              "        Product Id                                        Review Body\n",
              "0         26009102  You will love this book.  It is a hard long re...\n",
              "1          7491727  This is the UK edition of Dr. Omit's book. Dr....\n",
              "2       002782683X  This is a fun and entertaining book about lear...\n",
              "3         60187271  Started a big slow, but once into it the autho...\n",
              "4         60392452  Received this book as a Christmas present. I h...\n",
              "...            ...                                                ...\n",
              "128840    60529148  John Stossel explains within these pages how h...\n",
              "128841    60579412  When Bill Clinton said that we were all cold w...\n",
              "128842    60184973  During her reign, Queen Mary foiled several pl...\n",
              "128843     7444117  I just don't understand how this was supposed ...\n",
              "128844     7337701  No one can explain what seems to be the serend...\n",
              "\n",
              "[128834 rows x 2 columns]"
            ]
          },
          "metadata": {
            "tags": []
          },
          "execution_count": 2
        }
      ]
    },
    {
      "cell_type": "markdown",
      "metadata": {
        "id": "yirzYFO5w8sg"
      },
      "source": [
        "###***STEP 2:***\n",
        "*Preprocessing of data*"
      ]
    },
    {
      "cell_type": "code",
      "metadata": {
        "colab": {
          "base_uri": "https://localhost:8080/"
        },
        "id": "nxonkS0_wP8h",
        "outputId": "6d60acc1-ed3a-43fd-d641-b86fd8953412"
      },
      "source": [
        "import nltk\n",
        "from bs4 import BeautifulSoup as bs\n",
        "nltk.download('stopwords')\n",
        "\n",
        "stopwords_list = nltk.corpus.stopwords.words('english')\n",
        "stopwords_list.remove('no')\n",
        "stopwords_list.remove('not')"
      ],
      "execution_count": null,
      "outputs": [
        {
          "output_type": "stream",
          "text": [
            "[nltk_data] Downloading package stopwords to /root/nltk_data...\n",
            "[nltk_data]   Unzipping corpora/stopwords.zip.\n"
          ],
          "name": "stdout"
        }
      ]
    },
    {
      "cell_type": "code",
      "metadata": {
        "id": "t-rIiiM5xxBH",
        "colab": {
          "base_uri": "https://localhost:8080/"
        },
        "outputId": "0796bfe8-5cfc-4045-f338-a14601d315d1"
      },
      "source": [
        "# Filtering text\n",
        "def html_tag(text):\n",
        "  soup = bs(text,\"html.parser\")\n",
        "  new_text = soup.get_text()\n",
        "  return new_text\n",
        "\n",
        "!pip install contractions --quiet\n",
        "import contractions\n",
        "def con(text):\n",
        "  exp = contractions.fix(text)\n",
        "  return exp\n",
        "\n",
        "import re\n",
        "def remove_sp(text):\n",
        "  pattern = r'[^a-zA-Z0-9\\s]'\n",
        "  text = re.sub(pattern, '', text)\n",
        "  return text\n",
        "\n",
        "from nltk.tokenize.toktok import ToktokTokenizer\n",
        "tokenizer = ToktokTokenizer()\n",
        "def remove_stopwords(text):\n",
        "  tokens = tokenizer.tokenize(text)\n",
        "  tokens = [tokens.strip() for tokens in tokens]\n",
        "  filtered_tokens = [token for token in tokens if token not in stopwords_list]\n",
        "  filtered_text = ' '.join(filtered_tokens)\n",
        "  return filtered_text"
      ],
      "execution_count": null,
      "outputs": [
        {
          "output_type": "stream",
          "text": [
            "\u001b[K     |████████████████████████████████| 286kB 21.2MB/s \n",
            "\u001b[K     |████████████████████████████████| 327kB 38.2MB/s \n",
            "\u001b[?25h  Building wheel for pyahocorasick (setup.py) ... \u001b[?25l\u001b[?25hdone\n"
          ],
          "name": "stdout"
        }
      ]
    },
    {
      "cell_type": "code",
      "metadata": {
        "colab": {
          "base_uri": "https://localhost:8080/"
        },
        "id": "TKYAZVPk5eyq",
        "outputId": "eaf33207-7530-4a3f-b138-10b090e64ca9"
      },
      "source": [
        "# processing data\n",
        "# 1.LOWER CASES\n",
        "df_need['Review Body'] = df_need['Review Body'].apply(lambda x:x.lower())\n",
        "# 2.HTML \n",
        "df_need['Review Body'] = df_need['Review Body'].apply(html_tag)\n",
        "# 3.Contractions\n",
        "df_need['Review Body'] = df_need['Review Body'].apply(con)\n",
        "# 4. Special characters\n",
        "df_need['Review Body'] = df_need['Review Body'].apply(remove_sp)\n",
        "# 5. Stopwords\n",
        "df_need['Review Body'] = df_need['Review Body'].apply(remove_stopwords)"
      ],
      "execution_count": null,
      "outputs": [
        {
          "output_type": "stream",
          "text": [
            "/usr/local/lib/python3.7/dist-packages/bs4/__init__.py:336: UserWarning: \"http://www.pianopedagogy.org/book-club-first-selection-the-success-factor-in-piano-teaching-making-practice-perfect-pearce/\" looks like a URL. Beautiful Soup is not an HTTP client. You should probably use an HTTP client like requests to get the document behind the URL, and feed that document to Beautiful Soup.\n",
            "  ' that document to Beautiful Soup.' % decoded_markup\n",
            "/usr/local/lib/python3.7/dist-packages/bs4/__init__.py:336: UserWarning: \"http://www.amazon.com/ca%c3%adda-los-gigantes-spanish/dp/0307741184/ref=sr_1_sc_1?ie=utf8&qid=1440887588&sr=8-1-spell&keywords=la+caidade+los+giganttes\" looks like a URL. Beautiful Soup is not an HTTP client. You should probably use an HTTP client like requests to get the document behind the URL, and feed that document to Beautiful Soup.\n",
            "  ' that document to Beautiful Soup.' % decoded_markup\n"
          ],
          "name": "stderr"
        }
      ]
    },
    {
      "cell_type": "code",
      "metadata": {
        "colab": {
          "base_uri": "https://localhost:8080/",
          "height": 417
        },
        "id": "dhxCJq3l7PHB",
        "outputId": "e740e760-92f6-4666-a1c0-129f6c2d4442"
      },
      "source": [
        "df_need"
      ],
      "execution_count": null,
      "outputs": [
        {
          "output_type": "execute_result",
          "data": {
            "text/html": [
              "<div>\n",
              "<style scoped>\n",
              "    .dataframe tbody tr th:only-of-type {\n",
              "        vertical-align: middle;\n",
              "    }\n",
              "\n",
              "    .dataframe tbody tr th {\n",
              "        vertical-align: top;\n",
              "    }\n",
              "\n",
              "    .dataframe thead th {\n",
              "        text-align: right;\n",
              "    }\n",
              "</style>\n",
              "<table border=\"1\" class=\"dataframe\">\n",
              "  <thead>\n",
              "    <tr style=\"text-align: right;\">\n",
              "      <th></th>\n",
              "      <th>Product Id</th>\n",
              "      <th>Review Body</th>\n",
              "    </tr>\n",
              "  </thead>\n",
              "  <tbody>\n",
              "    <tr>\n",
              "      <th>0</th>\n",
              "      <td>26009102</td>\n",
              "      <td>love book hard long read worth never gets bori...</td>\n",
              "    </tr>\n",
              "    <tr>\n",
              "      <th>1</th>\n",
              "      <td>7491727</td>\n",
              "      <td>uk edition dr omits book dr omits book especia...</td>\n",
              "    </tr>\n",
              "    <tr>\n",
              "      <th>2</th>\n",
              "      <td>002782683X</td>\n",
              "      <td>fun entertaining book learning work together s...</td>\n",
              "    </tr>\n",
              "    <tr>\n",
              "      <th>3</th>\n",
              "      <td>60187271</td>\n",
              "      <td>started big slow authors ability draw characte...</td>\n",
              "    </tr>\n",
              "    <tr>\n",
              "      <th>4</th>\n",
              "      <td>60392452</td>\n",
              "      <td>received book christmas present seen film bowl...</td>\n",
              "    </tr>\n",
              "    <tr>\n",
              "      <th>...</th>\n",
              "      <td>...</td>\n",
              "      <td>...</td>\n",
              "    </tr>\n",
              "    <tr>\n",
              "      <th>128840</th>\n",
              "      <td>60529148</td>\n",
              "      <td>john stossel explains within pages began caree...</td>\n",
              "    </tr>\n",
              "    <tr>\n",
              "      <th>128841</th>\n",
              "      <td>60579412</td>\n",
              "      <td>bill clinton said cold warriors upon time reco...</td>\n",
              "    </tr>\n",
              "    <tr>\n",
              "      <th>128842</th>\n",
              "      <td>60184973</td>\n",
              "      <td>reign queen mary foiled several plots depose p...</td>\n",
              "    </tr>\n",
              "    <tr>\n",
              "      <th>128843</th>\n",
              "      <td>7444117</td>\n",
              "      <td>not understand supposed acceptable ending with...</td>\n",
              "    </tr>\n",
              "    <tr>\n",
              "      <th>128844</th>\n",
              "      <td>7337701</td>\n",
              "      <td>no one explain seems serendipity combat one ta...</td>\n",
              "    </tr>\n",
              "  </tbody>\n",
              "</table>\n",
              "<p>128834 rows × 2 columns</p>\n",
              "</div>"
            ],
            "text/plain": [
              "        Product Id                                        Review Body\n",
              "0         26009102  love book hard long read worth never gets bori...\n",
              "1          7491727  uk edition dr omits book dr omits book especia...\n",
              "2       002782683X  fun entertaining book learning work together s...\n",
              "3         60187271  started big slow authors ability draw characte...\n",
              "4         60392452  received book christmas present seen film bowl...\n",
              "...            ...                                                ...\n",
              "128840    60529148  john stossel explains within pages began caree...\n",
              "128841    60579412  bill clinton said cold warriors upon time reco...\n",
              "128842    60184973  reign queen mary foiled several plots depose p...\n",
              "128843     7444117  not understand supposed acceptable ending with...\n",
              "128844     7337701  no one explain seems serendipity combat one ta...\n",
              "\n",
              "[128834 rows x 2 columns]"
            ]
          },
          "metadata": {
            "tags": []
          },
          "execution_count": 6
        }
      ]
    },
    {
      "cell_type": "code",
      "metadata": {
        "id": "H3dYyURm8j7R",
        "colab": {
          "base_uri": "https://localhost:8080/"
        },
        "outputId": "31862034-945b-42b9-b5bf-c8bb4991d556"
      },
      "source": [
        "!pip install vaderSentiment --quiet\n",
        "from vaderSentiment.vaderSentiment import SentimentIntensityAnalyzer\n",
        "vs = SentimentIntensityAnalyzer()"
      ],
      "execution_count": null,
      "outputs": [
        {
          "output_type": "stream",
          "text": [
            "\u001b[?25l\r\u001b[K     |██▋                             | 10kB 17.7MB/s eta 0:00:01\r\u001b[K     |█████▏                          | 20kB 20.3MB/s eta 0:00:01\r\u001b[K     |███████▉                        | 30kB 23.4MB/s eta 0:00:01\r\u001b[K     |██████████▍                     | 40kB 26.5MB/s eta 0:00:01\r\u001b[K     |█████████████                   | 51kB 28.1MB/s eta 0:00:01\r\u001b[K     |███████████████▋                | 61kB 27.9MB/s eta 0:00:01\r\u001b[K     |██████████████████▏             | 71kB 28.9MB/s eta 0:00:01\r\u001b[K     |████████████████████▉           | 81kB 29.1MB/s eta 0:00:01\r\u001b[K     |███████████████████████▍        | 92kB 29.5MB/s eta 0:00:01\r\u001b[K     |██████████████████████████      | 102kB 30.9MB/s eta 0:00:01\r\u001b[K     |████████████████████████████▋   | 112kB 30.9MB/s eta 0:00:01\r\u001b[K     |███████████████████████████████▏| 122kB 30.9MB/s eta 0:00:01\r\u001b[K     |████████████████████████████████| 133kB 30.9MB/s \n",
            "\u001b[?25h"
          ],
          "name": "stdout"
        }
      ]
    },
    {
      "cell_type": "code",
      "metadata": {
        "colab": {
          "base_uri": "https://localhost:8080/",
          "height": 417
        },
        "id": "FaZkJ9Is7lSy",
        "outputId": "013a055e-7769-42cd-994b-2632524c30a1"
      },
      "source": [
        "df_need['compound'] = df_need['Review Body'].apply(lambda x: vs.polarity_scores(x)['compound'])\n",
        "df_need"
      ],
      "execution_count": null,
      "outputs": [
        {
          "output_type": "execute_result",
          "data": {
            "text/html": [
              "<div>\n",
              "<style scoped>\n",
              "    .dataframe tbody tr th:only-of-type {\n",
              "        vertical-align: middle;\n",
              "    }\n",
              "\n",
              "    .dataframe tbody tr th {\n",
              "        vertical-align: top;\n",
              "    }\n",
              "\n",
              "    .dataframe thead th {\n",
              "        text-align: right;\n",
              "    }\n",
              "</style>\n",
              "<table border=\"1\" class=\"dataframe\">\n",
              "  <thead>\n",
              "    <tr style=\"text-align: right;\">\n",
              "      <th></th>\n",
              "      <th>Product Id</th>\n",
              "      <th>Review Body</th>\n",
              "      <th>compound</th>\n",
              "    </tr>\n",
              "  </thead>\n",
              "  <tbody>\n",
              "    <tr>\n",
              "      <th>0</th>\n",
              "      <td>26009102</td>\n",
              "      <td>love book hard long read worth never gets bori...</td>\n",
              "      <td>0.8948</td>\n",
              "    </tr>\n",
              "    <tr>\n",
              "      <th>1</th>\n",
              "      <td>7491727</td>\n",
              "      <td>uk edition dr omits book dr omits book especia...</td>\n",
              "      <td>0.8374</td>\n",
              "    </tr>\n",
              "    <tr>\n",
              "      <th>2</th>\n",
              "      <td>002782683X</td>\n",
              "      <td>fun entertaining book learning work together s...</td>\n",
              "      <td>0.9313</td>\n",
              "    </tr>\n",
              "    <tr>\n",
              "      <th>3</th>\n",
              "      <td>60187271</td>\n",
              "      <td>started big slow authors ability draw characte...</td>\n",
              "      <td>0.6682</td>\n",
              "    </tr>\n",
              "    <tr>\n",
              "      <th>4</th>\n",
              "      <td>60392452</td>\n",
              "      <td>received book christmas present seen film bowl...</td>\n",
              "      <td>0.6780</td>\n",
              "    </tr>\n",
              "    <tr>\n",
              "      <th>...</th>\n",
              "      <td>...</td>\n",
              "      <td>...</td>\n",
              "      <td>...</td>\n",
              "    </tr>\n",
              "    <tr>\n",
              "      <th>128840</th>\n",
              "      <td>60529148</td>\n",
              "      <td>john stossel explains within pages began caree...</td>\n",
              "      <td>0.9785</td>\n",
              "    </tr>\n",
              "    <tr>\n",
              "      <th>128841</th>\n",
              "      <td>60579412</td>\n",
              "      <td>bill clinton said cold warriors upon time reco...</td>\n",
              "      <td>0.9927</td>\n",
              "    </tr>\n",
              "    <tr>\n",
              "      <th>128842</th>\n",
              "      <td>60184973</td>\n",
              "      <td>reign queen mary foiled several plots depose p...</td>\n",
              "      <td>-0.6041</td>\n",
              "    </tr>\n",
              "    <tr>\n",
              "      <th>128843</th>\n",
              "      <td>7444117</td>\n",
              "      <td>not understand supposed acceptable ending with...</td>\n",
              "      <td>0.4847</td>\n",
              "    </tr>\n",
              "    <tr>\n",
              "      <th>128844</th>\n",
              "      <td>7337701</td>\n",
              "      <td>no one explain seems serendipity combat one ta...</td>\n",
              "      <td>-0.8742</td>\n",
              "    </tr>\n",
              "  </tbody>\n",
              "</table>\n",
              "<p>128834 rows × 3 columns</p>\n",
              "</div>"
            ],
            "text/plain": [
              "        Product Id                                        Review Body  compound\n",
              "0         26009102  love book hard long read worth never gets bori...    0.8948\n",
              "1          7491727  uk edition dr omits book dr omits book especia...    0.8374\n",
              "2       002782683X  fun entertaining book learning work together s...    0.9313\n",
              "3         60187271  started big slow authors ability draw characte...    0.6682\n",
              "4         60392452  received book christmas present seen film bowl...    0.6780\n",
              "...            ...                                                ...       ...\n",
              "128840    60529148  john stossel explains within pages began caree...    0.9785\n",
              "128841    60579412  bill clinton said cold warriors upon time reco...    0.9927\n",
              "128842    60184973  reign queen mary foiled several plots depose p...   -0.6041\n",
              "128843     7444117  not understand supposed acceptable ending with...    0.4847\n",
              "128844     7337701  no one explain seems serendipity combat one ta...   -0.8742\n",
              "\n",
              "[128834 rows x 3 columns]"
            ]
          },
          "metadata": {
            "tags": []
          },
          "execution_count": 8
        }
      ]
    },
    {
      "cell_type": "code",
      "metadata": {
        "colab": {
          "base_uri": "https://localhost:8080/",
          "height": 417
        },
        "id": "DAYJ_BTYdndF",
        "outputId": "a8d0745b-deea-4c21-8c49-e7c8c56bcda3"
      },
      "source": [
        "for i in df_need['compound']:\n",
        "  if i <= 0:\n",
        "    df_need['compound'] = df_need['compound'].replace(i,'Negative')\n",
        "  elif i > 0:\n",
        "    df_need['compound'] = df_need['compound'].replace(i,'Positive') \n",
        "\n",
        "\n",
        "df_need"
      ],
      "execution_count": null,
      "outputs": [
        {
          "output_type": "execute_result",
          "data": {
            "text/html": [
              "<div>\n",
              "<style scoped>\n",
              "    .dataframe tbody tr th:only-of-type {\n",
              "        vertical-align: middle;\n",
              "    }\n",
              "\n",
              "    .dataframe tbody tr th {\n",
              "        vertical-align: top;\n",
              "    }\n",
              "\n",
              "    .dataframe thead th {\n",
              "        text-align: right;\n",
              "    }\n",
              "</style>\n",
              "<table border=\"1\" class=\"dataframe\">\n",
              "  <thead>\n",
              "    <tr style=\"text-align: right;\">\n",
              "      <th></th>\n",
              "      <th>Product Id</th>\n",
              "      <th>Review Body</th>\n",
              "      <th>compound</th>\n",
              "    </tr>\n",
              "  </thead>\n",
              "  <tbody>\n",
              "    <tr>\n",
              "      <th>0</th>\n",
              "      <td>26009102</td>\n",
              "      <td>love book hard long read worth never gets bori...</td>\n",
              "      <td>Positive</td>\n",
              "    </tr>\n",
              "    <tr>\n",
              "      <th>1</th>\n",
              "      <td>7491727</td>\n",
              "      <td>uk edition dr omits book dr omits book especia...</td>\n",
              "      <td>Positive</td>\n",
              "    </tr>\n",
              "    <tr>\n",
              "      <th>2</th>\n",
              "      <td>002782683X</td>\n",
              "      <td>fun entertaining book learning work together s...</td>\n",
              "      <td>Positive</td>\n",
              "    </tr>\n",
              "    <tr>\n",
              "      <th>3</th>\n",
              "      <td>60187271</td>\n",
              "      <td>started big slow authors ability draw characte...</td>\n",
              "      <td>Positive</td>\n",
              "    </tr>\n",
              "    <tr>\n",
              "      <th>4</th>\n",
              "      <td>60392452</td>\n",
              "      <td>received book christmas present seen film bowl...</td>\n",
              "      <td>Positive</td>\n",
              "    </tr>\n",
              "    <tr>\n",
              "      <th>...</th>\n",
              "      <td>...</td>\n",
              "      <td>...</td>\n",
              "      <td>...</td>\n",
              "    </tr>\n",
              "    <tr>\n",
              "      <th>128840</th>\n",
              "      <td>60529148</td>\n",
              "      <td>john stossel explains within pages began caree...</td>\n",
              "      <td>Positive</td>\n",
              "    </tr>\n",
              "    <tr>\n",
              "      <th>128841</th>\n",
              "      <td>60579412</td>\n",
              "      <td>bill clinton said cold warriors upon time reco...</td>\n",
              "      <td>Positive</td>\n",
              "    </tr>\n",
              "    <tr>\n",
              "      <th>128842</th>\n",
              "      <td>60184973</td>\n",
              "      <td>reign queen mary foiled several plots depose p...</td>\n",
              "      <td>Negative</td>\n",
              "    </tr>\n",
              "    <tr>\n",
              "      <th>128843</th>\n",
              "      <td>7444117</td>\n",
              "      <td>not understand supposed acceptable ending with...</td>\n",
              "      <td>Positive</td>\n",
              "    </tr>\n",
              "    <tr>\n",
              "      <th>128844</th>\n",
              "      <td>7337701</td>\n",
              "      <td>no one explain seems serendipity combat one ta...</td>\n",
              "      <td>Negative</td>\n",
              "    </tr>\n",
              "  </tbody>\n",
              "</table>\n",
              "<p>128834 rows × 3 columns</p>\n",
              "</div>"
            ],
            "text/plain": [
              "        Product Id                                        Review Body  compound\n",
              "0         26009102  love book hard long read worth never gets bori...  Positive\n",
              "1          7491727  uk edition dr omits book dr omits book especia...  Positive\n",
              "2       002782683X  fun entertaining book learning work together s...  Positive\n",
              "3         60187271  started big slow authors ability draw characte...  Positive\n",
              "4         60392452  received book christmas present seen film bowl...  Positive\n",
              "...            ...                                                ...       ...\n",
              "128840    60529148  john stossel explains within pages began caree...  Positive\n",
              "128841    60579412  bill clinton said cold warriors upon time reco...  Positive\n",
              "128842    60184973  reign queen mary foiled several plots depose p...  Negative\n",
              "128843     7444117  not understand supposed acceptable ending with...  Positive\n",
              "128844     7337701  no one explain seems serendipity combat one ta...  Negative\n",
              "\n",
              "[128834 rows x 3 columns]"
            ]
          },
          "metadata": {
            "tags": []
          },
          "execution_count": 9
        }
      ]
    },
    {
      "cell_type": "code",
      "metadata": {
        "id": "xFhSSP6QC78O",
        "colab": {
          "base_uri": "https://localhost:8080/",
          "height": 317
        },
        "outputId": "3360cbaf-5acf-483e-b77d-2154b29e816f"
      },
      "source": [
        "df_need['compound'].value_counts().plot(kind='bar')"
      ],
      "execution_count": null,
      "outputs": [
        {
          "output_type": "execute_result",
          "data": {
            "text/plain": [
              "<matplotlib.axes._subplots.AxesSubplot at 0x7f00fefc41d0>"
            ]
          },
          "metadata": {
            "tags": []
          },
          "execution_count": 10
        },
        {
          "output_type": "display_data",
          "data": {
            "image/png": "[encoded data removed]",
            "text/plain": [
              "<Figure size 432x288 with 1 Axes>"
            ]
          },
          "metadata": {
            "tags": [],
            "needs_background": "light"
          }
        }
      ]
    },
    {
      "cell_type": "markdown",
      "metadata": {
        "id": "-O70-Ln4-rPO"
      },
      "source": [
        "###***STEP 3:***\n",
        "*Creating Model*"
      ]
    },
    {
      "cell_type": "code",
      "metadata": {
        "id": "qK5np48fetFC"
      },
      "source": [
        "x = df_need['Review Body'].values\n",
        "y = df_need['compound'].values\n",
        "\n",
        "# Split the data\n",
        "from sklearn.model_selection import train_test_split\n",
        "x_train,x_test,y_train,y_test = train_test_split(x,y,random_state=0)"
      ],
      "execution_count": null,
      "outputs": []
    },
    {
      "cell_type": "code",
      "metadata": {
        "id": "ijWLItIGhBU5"
      },
      "source": [
        "from sklearn.feature_extraction.text import TfidfVectorizer\n",
        "vect = TfidfVectorizer()\n",
        "x_train = vect.fit_transform(x_train)\n",
        "x_test = vect.transform(x_test)"
      ],
      "execution_count": null,
      "outputs": []
    },
    {
      "cell_type": "code",
      "metadata": {
        "id": "cUS_L5WzIXN7"
      },
      "source": [
        "from sklearn.naive_bayes import MultinomialNB\n",
        "mnb = MultinomialNB()\n",
        "mnb.fit(x_train,y_train)\n",
        "y_pred = mnb.predict(x_test)"
      ],
      "execution_count": null,
      "outputs": []
    },
    {
      "cell_type": "code",
      "metadata": {
        "colab": {
          "base_uri": "https://localhost:8080/"
        },
        "id": "RwgWLqYDJEAc",
        "outputId": "4c29b69a-aa96-4dbb-afcc-051be7f66ebe"
      },
      "source": [
        "from sklearn.metrics import accuracy_score,confusion_matrix,classification_report\n",
        "accuracy_score(y_pred,y_test)"
      ],
      "execution_count": null,
      "outputs": [
        {
          "output_type": "execute_result",
          "data": {
            "text/plain": [
              "0.8128473408053649"
            ]
          },
          "metadata": {
            "tags": []
          },
          "execution_count": 14
        }
      ]
    },
    {
      "cell_type": "code",
      "metadata": {
        "colab": {
          "base_uri": "https://localhost:8080/"
        },
        "id": "4F29wbPwJKFf",
        "outputId": "c85bfdec-a389-430f-cd47-c8bd1e1c96e3"
      },
      "source": [
        "print(classification_report(y_pred,y_test))"
      ],
      "execution_count": null,
      "outputs": [
        {
          "output_type": "stream",
          "text": [
            "              precision    recall  f1-score   support\n",
            "\n",
            "    Negative       0.01      0.88      0.02        80\n",
            "    Positive       1.00      0.81      0.90     32129\n",
            "\n",
            "    accuracy                           0.81     32209\n",
            "   macro avg       0.51      0.84      0.46     32209\n",
            "weighted avg       1.00      0.81      0.89     32209\n",
            "\n"
          ],
          "name": "stdout"
        }
      ]
    },
    {
      "cell_type": "markdown",
      "metadata": {
        "id": "ROBeDixUJ4E2"
      },
      "source": [
        "CREATING PIPELINE"
      ]
    },
    {
      "cell_type": "code",
      "metadata": {
        "id": "TIouZAoGKvNr"
      },
      "source": [
        "x_train,x_test,y_train,y_test = train_test_split(x,y,random_state=0)"
      ],
      "execution_count": null,
      "outputs": []
    },
    {
      "cell_type": "code",
      "metadata": {
        "id": "22VjPXTSJM50"
      },
      "source": [
        "from sklearn.pipeline import Pipeline\n",
        "text_model = Pipeline([('vect',TfidfVectorizer()),('mnB',MultinomialNB())])\n",
        "\n",
        "pl = text_model.fit(x_train,y_train)"
      ],
      "execution_count": null,
      "outputs": []
    },
    {
      "cell_type": "code",
      "metadata": {
        "colab": {
          "base_uri": "https://localhost:8080/"
        },
        "id": "zv1cXJzfK-A1",
        "outputId": "2347a7b9-4aae-46da-970e-80c225c605cd"
      },
      "source": [
        "accuracy_score(y_pred,y_test)"
      ],
      "execution_count": null,
      "outputs": [
        {
          "output_type": "execute_result",
          "data": {
            "text/plain": [
              "0.8128473408053649"
            ]
          },
          "metadata": {
            "tags": []
          },
          "execution_count": 18
        }
      ]
    },
    {
      "cell_type": "code",
      "metadata": {
        "colab": {
          "base_uri": "https://localhost:8080/"
        },
        "id": "-dg4bP7YKfxm",
        "outputId": "56e0a4f9-a52f-404d-a88c-f995cc0ee244"
      },
      "source": [
        "import joblib\n",
        "joblib.dump(text_model,'Sentiment Analysis')"
      ],
      "execution_count": null,
      "outputs": [
        {
          "output_type": "execute_result",
          "data": {
            "text/plain": [
              "['Sentiment Analysis']"
            ]
          },
          "metadata": {
            "tags": []
          },
          "execution_count": 19
        }
      ]
    },
    {
      "cell_type": "markdown",
      "metadata": {
        "id": "oQk446aXMLBk"
      },
      "source": [
        "###***STEP 4:***\n",
        "*Deployment using streamlit*"
      ]
    },
    {
      "cell_type": "code",
      "metadata": {
        "colab": {
          "base_uri": "https://localhost:8080/"
        },
        "id": "EGItcy9qMVj2",
        "outputId": "cece682d-eac3-41fe-eabb-336a9b564d46"
      },
      "source": [
        "!pip install streamlit --quiet\n",
        "!pip install pyngrok==4.1.1 --quiet"
      ],
      "execution_count": null,
      "outputs": [
        {
          "output_type": "stream",
          "text": [
            "\u001b[K     |████████████████████████████████| 8.2MB 27.9MB/s \n",
            "\u001b[K     |████████████████████████████████| 174kB 46.9MB/s \n",
            "\u001b[K     |████████████████████████████████| 4.2MB 44.2MB/s \n",
            "\u001b[K     |████████████████████████████████| 81kB 8.9MB/s \n",
            "\u001b[K     |████████████████████████████████| 112kB 32.2MB/s \n",
            "\u001b[K     |████████████████████████████████| 71kB 7.3MB/s \n",
            "\u001b[K     |████████████████████████████████| 122kB 57.7MB/s \n",
            "\u001b[?25h  Building wheel for blinker (setup.py) ... \u001b[?25l\u001b[?25hdone\n",
            "\u001b[31mERROR: google-colab 1.0.0 has requirement ipykernel~=4.10, but you'll have ipykernel 5.5.5 which is incompatible.\u001b[0m\n",
            "  Building wheel for pyngrok (setup.py) ... \u001b[?25l\u001b[?25hdone\n"
          ],
          "name": "stdout"
        }
      ]
    },
    {
      "cell_type": "code",
      "metadata": {
        "colab": {
          "base_uri": "https://localhost:8080/"
        },
        "id": "PKgBTpaqMiqG",
        "outputId": "8b2b4d42-c3cd-4f0d-da59-c1bb408315a1"
      },
      "source": [
        "%%writefile app.py\n",
        "import streamlit as st\n",
        "import joblib\n",
        "model = joblib.load('/content/drive/MyDrive/ml samrtknower/major project/Sentiment Analysis')\n",
        "st.title('Sentiment Analyzer')\n",
        "ip = st.text_input(\"Enter message\")\n",
        "op = model.predict([ip])\n",
        "if st.button('PREDICT'):\n",
        "  st.title(op[0])"
      ],
      "execution_count": null,
      "outputs": [
        {
          "output_type": "stream",
          "text": [
            "Writing app.py\n"
          ],
          "name": "stdout"
        }
      ]
    },
    {
      "cell_type": "code",
      "metadata": {
        "colab": {
          "base_uri": "https://localhost:8080/"
        },
        "id": "Cp46zPNQNEGd",
        "outputId": "c6167967-83c4-4d7e-bfd7-317cc1f806b6"
      },
      "source": [
        "! ngrok authtoken 1sgXTcIuIEcROgGTDrRWHO3n2Z1_2TLX5Hk1a28YGNnZzoJP9"
      ],
      "execution_count": null,
      "outputs": [
        {
          "output_type": "stream",
          "text": [
            "Authtoken saved to configuration file: /root/.ngrok2/ngrok.yml\n"
          ],
          "name": "stdout"
        }
      ]
    },
    {
      "cell_type": "code",
      "metadata": {
        "colab": {
          "base_uri": "https://localhost:8080/",
          "height": 52
        },
        "id": "dlSpEpFpNE2o",
        "outputId": "70fac664-55af-4037-b959-c89652cff387"
      },
      "source": [
        "!nohup streamlit run app.py &\n",
        "from pyngrok import ngrok\n",
        "\n",
        "url = ngrok.connect(port='8501')\n",
        "url"
      ],
      "execution_count": null,
      "outputs": [
        {
          "output_type": "stream",
          "text": [
            "nohup: appending output to 'nohup.out'\n"
          ],
          "name": "stdout"
        },
        {
          "output_type": "execute_result",
          "data": {
            "application/vnd.google.colaboratory.intrinsic+json": {
              "type": "string"
            },
            "text/plain": [
              "'http://9fd115433561.ngrok.io'"
            ]
          },
          "metadata": {
            "tags": []
          },
          "execution_count": 23
        }
      ]
    }
  ]
}